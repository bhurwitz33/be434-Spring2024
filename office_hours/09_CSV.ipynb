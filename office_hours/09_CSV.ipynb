{
 "cells": [
  {
   "cell_type": "code",
   "execution_count": null,
   "id": "37c70411",
   "metadata": {},
   "outputs": [],
   "source": [
    "import csv"
   ]
  },
  {
   "cell_type": "markdown",
   "id": "dd6695e5",
   "metadata": {},
   "source": [
    "## CSV"
   ]
  },
  {
   "cell_type": "markdown",
   "id": "d9b19028",
   "metadata": {},
   "source": [
    "### Reading"
   ]
  },
  {
   "cell_type": "code",
   "execution_count": null,
   "id": "e8faa469",
   "metadata": {},
   "outputs": [],
   "source": [
    "# Read the first 10 lines of the csv file\n",
    "# Note that the file is tab delimited\n",
    "with open('us_zipcodes.csv', 'r') as f:\n",
    "    reader = csv.reader(f, delimiter='\\t')\n",
    "    count = 0\n",
    "    for row in reader:\n",
    "        print(row)\n",
    "        count +=1\n",
    "        if count == 10:\n",
    "            break"
   ]
  },
  {
   "cell_type": "code",
   "execution_count": null,
   "id": "9c5eda9b",
   "metadata": {},
   "outputs": [],
   "source": [
    "# Read the first 10 lines of the csv file\n",
    "# skip the header line in the dataset\n",
    "with open('us_zipcodes.csv', 'r') as f:\n",
    "    reader = csv.reader(f, delimiter='\\t')\n",
    "    next(reader)\n",
    "    # next(reader) keep repeating to skip an additional line.\n",
    "    count = 0\n",
    "    for row in reader:\n",
    "        print(row)\n",
    "        count +=1\n",
    "        if count == 10:\n",
    "            break"
   ]
  },
  {
   "cell_type": "code",
   "execution_count": null,
   "id": "bd55ec0a",
   "metadata": {},
   "outputs": [],
   "source": [
    "# Read the first 10 lines of the csv file\n",
    "# Skip the header line by turning the reader into a list and starting from 1+\n",
    "with open('us_zipcodes.csv', 'r') as f:\n",
    "    reader = list(csv.reader(f, delimiter='\\t'))\n",
    "    count = 0\n",
    "    for row in reader[1:]:\n",
    "        print(row)\n",
    "        count +=1\n",
    "        if count == 10:\n",
    "            break"
   ]
  },
  {
   "cell_type": "code",
   "execution_count": null,
   "id": "c9b656d7",
   "metadata": {},
   "outputs": [],
   "source": [
    "# Create a dictionary per line instead\n",
    "with open('us_zipcodes.csv', 'r') as f:\n",
    "    reader = csv.DictReader(f, delimiter='\\t')\n",
    "    count = 0\n",
    "    for row in reader:\n",
    "        print(row)\n",
    "        count +=1\n",
    "        if count == 10:\n",
    "            break"
   ]
  },
  {
   "cell_type": "markdown",
   "id": "60d7e9f3",
   "metadata": {},
   "source": [
    "### Filtering data"
   ]
  },
  {
   "cell_type": "code",
   "execution_count": null,
   "id": "9d591521",
   "metadata": {},
   "outputs": [],
   "source": [
    "with open('us_zipcodes.csv', 'r') as f:\n",
    "    data = list(csv.DictReader(f, delimiter='\\t'))"
   ]
  },
  {
   "cell_type": "code",
   "execution_count": null,
   "id": "ab49f29a",
   "metadata": {},
   "outputs": [],
   "source": [
    "primes = []\n",
    "for number in range(2, 99999):\n",
    "    for factor in range(2, int(number**0.5) + 1):\n",
    "        if number % factor == 0:\n",
    "            break\n",
    "    else:\n",
    "        primes.append(number)"
   ]
  },
  {
   "cell_type": "code",
   "execution_count": null,
   "id": "a38cb48a",
   "metadata": {},
   "outputs": [],
   "source": [
    "data = [row for row in data if int(row['postal code']) in primes and row['state code'] == 'AZ']\n",
    "len(data)\n",
    "for i in (range(10)):\n",
    "    print(data[i])\n"
   ]
  },
  {
   "cell_type": "markdown",
   "id": "4ba7df82",
   "metadata": {},
   "source": [
    "### Writing"
   ]
  },
  {
   "cell_type": "code",
   "execution_count": null,
   "id": "3e80a27b",
   "metadata": {},
   "outputs": [],
   "source": [
    "with open('az_prime_zipcodes.csv', 'w') as f:\n",
    "    writer = csv.writer(f)\n",
    "    # print a header\n",
    "    header = 'postal code' + ',' + 'place name' + ',' + 'county'\n",
    "    print(header, file=f)\n",
    "    for row in data:\n",
    "        writer.writerow([row['postal code'], row['place name'], row['county']])\n",
    "        \n",
    "        "
   ]
  },
  {
   "cell_type": "code",
   "execution_count": null,
   "id": "8d030349",
   "metadata": {},
   "outputs": [],
   "source": [
    "!head az_prime_places.csv"
   ]
  },
  {
   "cell_type": "markdown",
   "id": "99f4882e",
   "metadata": {},
   "source": [
    "### Homework help!"
   ]
  },
  {
   "cell_type": "markdown",
   "id": "88f69d95",
   "metadata": {},
   "source": [
    "csvfilter.py \n",
    "\n",
    "* `-f`|`--file`: A *required* argument that is a readable file\n",
    "* `-v`|`--val`: A *required* \"value\" to match against each record\n",
    "* `-c`|`--col`: An optional \"column\" to search for the given value\n",
    "* `-o`|`--outfile`: An optional output file name (default `'out.csv'`)\n",
    "* `-d`|`--delimiter`: An optional delimiter to use to parse the file (default `','`)"
   ]
  },
  {
   "cell_type": "code",
   "execution_count": null,
   "id": "b656096b",
   "metadata": {},
   "outputs": [],
   "source": [
    "!grep Tucson az_prime_zipcodes.csv"
   ]
  },
  {
   "cell_type": "code",
   "execution_count": null,
   "id": "56295f3a",
   "metadata": {},
   "outputs": [],
   "source": [
    "!./csvchk.py -g Tucson --limit 10 az_prime_zipcodes.csv"
   ]
  },
  {
   "cell_type": "code",
   "execution_count": null,
   "id": "11adf008",
   "metadata": {},
   "outputs": [],
   "source": [
    "import csv\n",
    "import re\n",
    "import sys\n",
    "\n",
    "infile = open('az_prime_zipcodes.csv', 'rt')\n",
    "outfile = open('tucson_az_prime_zipcodes.csv', 'wt')\n",
    "\n",
    "reader = csv.DictReader(infile, delimiter=',')\n",
    "search_column = 'place name'\n",
    "search_for = 'Tucson'\n",
    "\n",
    "# Check to see if the user is requesting a particular column\n",
    "if search_column and search_column not in reader.fieldnames:\n",
    "    print(f'Choose from {\", \".join(reader.fieldnames)}')\n",
    "    sys.exit(1)\n",
    "\n",
    "# Create a \"csv writer\"\n",
    "writer = csv.DictWriter(outfile, fieldnames=reader.fieldnames)\n",
    "writer.writeheader()\n",
    "\n",
    "for rec in reader:\n",
    "    text = rec.get(search_column) if search_column else ' '.join(rec.values())\n",
    "\n",
    "    if re.search(search_for, text, re.IGNORECASE):\n",
    "        writer.writerow(rec)"
   ]
  },
  {
   "cell_type": "code",
   "execution_count": null,
   "id": "2bf6a3cd",
   "metadata": {},
   "outputs": [],
   "source": [
    "!head tucson_az_prime_zipcodes.csv"
   ]
  }
 ],
 "metadata": {
  "kernelspec": {
   "display_name": "Python 3 (ipykernel)",
   "language": "python",
   "name": "python3"
  },
  "language_info": {
   "codemirror_mode": {
    "name": "ipython",
    "version": 3
   },
   "file_extension": ".py",
   "mimetype": "text/x-python",
   "name": "python",
   "nbconvert_exporter": "python",
   "pygments_lexer": "ipython3",
   "version": "3.9.6"
  }
 },
 "nbformat": 4,
 "nbformat_minor": 5
}
