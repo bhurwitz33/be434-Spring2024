{
 "cells": [
  {
   "attachments": {},
   "cell_type": "markdown",
   "id": "5de7bac8",
   "metadata": {},
   "source": [
    "# Assignment: Getting Started Part2\n",
    "\n",
    "## Creating your first python program\n",
    "\n",
    "This notebook will walk you through how to use new.py to create a new python program from a template. We will use this program (new.py) for each assignment to create the initial template you will use to develop the code for the assignment. \n",
    "\n",
    "Step 3: Set up and learn how to use new.py to create a new python program (15 points)"
   ]
  },
  {
   "cell_type": "markdown",
   "metadata": {},
   "source": [
    "## Step 3: Learning how to write a Python program using a template (new.py)\n",
    "\n",
    "I hate writing code from scratch! Today we will learn about using a program called `new.py` that will create a new python program for you to start from. We need to add new.py to our PATH, so we can use it anywhere, without having to figure out where it is!"
   ]
  },
  {
   "cell_type": "markdown",
   "metadata": {},
   "source": [
    "### Installing new.py Into Your PATH\n",
    "In the _bin_ directory of your repository, you will find a program called `new.py` that will help you make a new Python program. Let's go check it out."
   ]
  },
  {
   "cell_type": "code",
   "execution_count": null,
   "metadata": {},
   "outputs": [],
   "source": [
    "# go to the bin directory with new.py\n",
    "%cd\n",
    "%cd be434-Spring2024/bin\n",
    "!new.py -h"
   ]
  },
  {
   "cell_type": "markdown",
   "metadata": {},
   "source": [
    "You should see something like this:\n",
    "\n",
    "```\n",
    "usage: new.py [-h] [-n NAME] [-e EMAIL] [-p PURPOSE] [-f] program\n",
    "\n",
    "Create Python argparse program\n",
    "\n",
    "positional arguments:\n",
    "  program               Program name\n",
    "\n",
    "options:\n",
    "  -h, --help            show this help message and exit\n",
    "  -n NAME, --name NAME  Name for docstring (default: bhurwitz)\n",
    "  -e EMAIL, --email EMAIL\n",
    "                        Email for docstring (default: bhurwitz@arizona.edu)\n",
    "  -p PURPOSE, --purpose PURPOSE\n",
    "                        Purpose for docstring (default: Rock the Casbah)\n",
    "  -f, --force           Overwrite existing (default: False)\n",
    "```"
   ]
  },
  {
   "cell_type": "markdown",
   "metadata": {},
   "source": [
    "### Adding the new.py program to your PATH\n",
    "\n",
    "Navigating to this directory or using the full path to `new.py` is annoying as you will use it often. I suggest you create a directory in your `$HOME` (which is often written using the tilde `~` AKA \"twiddle\") to put useful programs you'll write.\n",
    "\n",
    "It's common to create a _~/local_ or _~/.local_ (so it's hidden) to install software, and inside of that a _bin_ directory:"
   ]
  },
  {
   "cell_type": "code",
   "execution_count": null,
   "metadata": {},
   "outputs": [],
   "source": [
    "# Run this cell to create a local bin directory\n",
    "!mkdir ~/.local\n",
    "!mkdir ~/.local/bin"
   ]
  },
  {
   "cell_type": "markdown",
   "metadata": {},
   "source": [
    "### Add the local bin directory to your Unix PATH\n",
    "\n",
    "You will need to ensure that this directory is included in your `$PATH` so it is \"findable\" from anywhere on the HPC. First check what Unix shell you are using:"
   ]
  },
  {
   "cell_type": "code",
   "execution_count": null,
   "metadata": {},
   "outputs": [],
   "source": [
    "# Which shell are you using?\n",
    "!echo $SHELL"
   ]
  },
  {
   "cell_type": "markdown",
   "metadata": {},
   "source": [
    "# Editing your PATH\n",
    "\n",
    "If are using the `bash` shell, you can edit _~/.bashrc_. If are using the `zsh` shell, you can edit _~/.zshrc_. \n",
    "\n",
    "We will add an line to the end of the _~/.bashrc_ given that you are likely in that shell.  "
   ]
  },
  {
   "cell_type": "code",
   "execution_count": null,
   "metadata": {},
   "outputs": [],
   "source": [
    "# Add the local bin path to your .bashrc file\n",
    "# Then use the `source` command to read this file and alter your `$PATH`\n",
    "!echo 'export PATH=~/.local/bin:$PATH' >> ~/.bashrc\n",
    "!source ~/.bashrc"
   ]
  },
  {
   "cell_type": "code",
   "execution_count": null,
   "metadata": {},
   "outputs": [],
   "source": [
    "# You can view your `$PATH` to ensure this directory is included:\n",
    "!echo $PATH"
   ]
  },
  {
   "cell_type": "code",
   "execution_count": null,
   "metadata": {},
   "outputs": [],
   "source": [
    "# Copy the `new.py` program into your local bin directory:\n",
    "!cp ~/be434-Spring2024/bin/new.py ~/.local/bin"
   ]
  },
  {
   "cell_type": "code",
   "execution_count": null,
   "metadata": {},
   "outputs": [],
   "source": [
    "# Verify that the program can be found using `which`:\n",
    "# My new.py file is located here: ~/bhurwitz/.local/bin/new.py\n",
    "!which new.py"
   ]
  },
  {
   "cell_type": "markdown",
   "metadata": {},
   "source": [
    "### Exercise 3 (15 points)\n",
    "\n",
    "Let's check to see if we can use new.py to create a template for a new program. We are going to create a program called howdy.py in the ~/be434-Spring2024/assignments/00_getting_started directory. "
   ]
  },
  {
   "cell_type": "code",
   "execution_count": null,
   "metadata": {},
   "outputs": [],
   "source": [
    "# Let's create a template for a program called `hello.py` using `new.py`\n",
    "%cd ~/be434-Spring2024/assignments/00_getting_started\n",
    "!new.py -p 'Say howdy' howdy.py"
   ]
  },
  {
   "cell_type": "markdown",
   "metadata": {},
   "source": [
    "You should see something like this output from the command above: \n",
    "\n",
    "```\n",
    "Done, see new script \"howdy.py.\"\n",
    "```"
   ]
  },
  {
   "cell_type": "markdown",
   "metadata": {},
   "source": [
    "## Uploading your code to GitHub\n",
    "\n",
    "All of the code for the class needs to be \"pushed\" to GitHub so that I can grade it. Run the commands below to \"push\" your code to Github. Note that this program is just a \"shell\" or template for writing code, we will learn how to start writing Python programs in the next chapter...\n"
   ]
  },
  {
   "cell_type": "code",
   "execution_count": null,
   "metadata": {},
   "outputs": [],
   "source": [
    "# Submit your code to Github\n",
    "%cd\n",
    "%cd be434-Spring2024\n",
    "!git add -A && git commit -m \"Submitting 00_getting_started for grading\"\n",
    "!git push"
   ]
  },
  {
   "cell_type": "markdown",
   "metadata": {},
   "source": [
    "Great job! You are done with this assignment.\n",
    "\n",
    "## Authors\n",
    "\n",
    "Bonnie Hurwitz <bhurwitz@arizona.edu> and Ken Youens-Clark <kyclark@gmail.com>"
   ]
  }
 ],
 "metadata": {
  "kernelspec": {
   "display_name": "Python 3 (ipykernel)",
   "language": "python",
   "name": "python3"
  },
  "language_info": {
   "codemirror_mode": {
    "name": "ipython",
    "version": 3
   },
   "file_extension": ".py",
   "mimetype": "text/x-python",
   "name": "python",
   "nbconvert_exporter": "python",
   "pygments_lexer": "ipython3",
   "version": "3.9.6"
  }
 },
 "nbformat": 4,
 "nbformat_minor": 5
}
